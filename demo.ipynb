{
 "cells": [
  {
   "cell_type": "code",
   "execution_count": 59,
   "metadata": {},
   "outputs": [
    {
     "data": {
      "text/plain": [
       "<riskstate.SetupPhase at 0x7f6c5d106c10>"
      ]
     },
     "execution_count": 59,
     "metadata": {},
     "output_type": "execute_result"
    }
   ],
   "source": []
  },
  {
   "cell_type": "code",
   "execution_count": 60,
   "metadata": {},
   "outputs": [
    {
     "name": "stdout",
     "output_type": "stream",
     "text": [
      "RecruitmentPhase\n",
      "({'player_0': 21, 'player_1': 21}, 42)\n"
     ]
    },
    {
     "ename": "IndexError",
     "evalue": "index 42 is out of bounds for axis 0 with size 42",
     "output_type": "error",
     "traceback": [
      "\u001b[0;31m---------------------------------------------------------------------------\u001b[0m",
      "\u001b[0;31mIndexError\u001b[0m                                Traceback (most recent call last)",
      "Cell \u001b[0;32mIn[60], line 10\u001b[0m\n\u001b[1;32m      8\u001b[0m     \u001b[39mprint\u001b[39m(\u001b[39mf\u001b[39m\u001b[39m'\u001b[39m\u001b[39m{\u001b[39;00m\u001b[39mtype\u001b[39m(Env\u001b[39m.\u001b[39mrisk)\u001b[39m.\u001b[39m\u001b[39m__name__\u001b[39m\u001b[39m}\u001b[39;00m\u001b[39m len 0\u001b[39m\u001b[39m'\u001b[39m)\n\u001b[1;32m      9\u001b[0m     \u001b[39mbreak\u001b[39;00m\n\u001b[0;32m---> 10\u001b[0m Env\u001b[39m.\u001b[39;49mstep( random\u001b[39m.\u001b[39;49mchoice(Env\u001b[39m.\u001b[39;49mrisk\u001b[39m.\u001b[39;49maction_space()) )\n\u001b[1;32m     12\u001b[0m \u001b[39mif\u001b[39;00m _ \u001b[39m%\u001b[39m \u001b[39m10000\u001b[39m \u001b[39m==\u001b[39m \u001b[39m1\u001b[39m:\n\u001b[1;32m     13\u001b[0m     \u001b[39mprint\u001b[39m(\u001b[39mtype\u001b[39m(Env\u001b[39m.\u001b[39mrisk)\u001b[39m.\u001b[39m\u001b[39m__name__\u001b[39m)\n",
      "File \u001b[0;32m~/git/risk/riskenv.py:52\u001b[0m, in \u001b[0;36mRiskEnv.step\u001b[0;34m(self, action)\u001b[0m\n\u001b[1;32m     47\u001b[0m \u001b[39mdef\u001b[39;00m \u001b[39mstep\u001b[39m(\u001b[39mself\u001b[39m, action):\n\u001b[1;32m     48\u001b[0m     \u001b[39m#TODO: Implement the random player \u001b[39;00m\n\u001b[1;32m     49\u001b[0m     \u001b[39m# if self.risk.current_player != 0:\u001b[39;00m\n\u001b[1;32m     50\u001b[0m     \u001b[39m#     action = np.random.randint(43)\u001b[39;00m\n\u001b[1;32m     51\u001b[0m     info \u001b[39m=\u001b[39m {} \n\u001b[0;32m---> 52\u001b[0m     res, state \u001b[39m=\u001b[39m \u001b[39mself\u001b[39;49m\u001b[39m.\u001b[39;49mrisk\u001b[39m.\u001b[39;49mstep(action)\n\u001b[1;32m     53\u001b[0m     \u001b[39m#If invalid move\u001b[39;00m\n\u001b[1;32m     54\u001b[0m     \u001b[39mif\u001b[39;00m res \u001b[39m==\u001b[39m Move\u001b[39m.\u001b[39mINVALID:\n",
      "File \u001b[0;32m~/git/risk/riskstate.py:182\u001b[0m, in \u001b[0;36mRecruitmentPhase.step\u001b[0;34m(self, move)\u001b[0m\n\u001b[1;32m    181\u001b[0m \u001b[39mdef\u001b[39;00m \u001b[39mstep\u001b[39m(\u001b[39mself\u001b[39m, move):\n\u001b[0;32m--> 182\u001b[0m     \u001b[39mif\u001b[39;00m \u001b[39mnot\u001b[39;00m \u001b[39mself\u001b[39;49m\u001b[39m.\u001b[39;49mis_valid(move):\n\u001b[1;32m    183\u001b[0m         \u001b[39mreturn\u001b[39;00m ( Move\u001b[39m.\u001b[39mINVALID, \u001b[39mself\u001b[39m )\n\u001b[1;32m    184\u001b[0m     \u001b[39mif\u001b[39;00m move \u001b[39m==\u001b[39m \u001b[39mself\u001b[39m\u001b[39m.\u001b[39mDO_NOTHING:\n",
      "File \u001b[0;32m~/git/risk/riskstate.py:179\u001b[0m, in \u001b[0;36mRecruitmentPhase.is_valid\u001b[0;34m(self, move)\u001b[0m\n\u001b[1;32m    178\u001b[0m \u001b[39mdef\u001b[39;00m \u001b[39mis_valid\u001b[39m(\u001b[39mself\u001b[39m, move):\n\u001b[0;32m--> 179\u001b[0m     \u001b[39mreturn\u001b[39;00m \u001b[39mself\u001b[39;49m\u001b[39m.\u001b[39;49mterritories[move, OWNER] \u001b[39m==\u001b[39m \u001b[39mself\u001b[39m\u001b[39m.\u001b[39mcurrent_player\n",
      "\u001b[0;31mIndexError\u001b[0m: index 42 is out of bounds for axis 0 with size 42"
     ]
    }
   ],
   "source": [
    "%reload_ext autoreload \n",
    "%autoreload 2\n",
    "\n",
    "import numpy as np\n",
    "from enum import Enum, auto\n",
    "from maps import default_map\n",
    "from gymnasium.spaces import *\n",
    "from gymnasium import Env \n",
    "from riskenv import RiskEnv\n",
    "\n",
    "from riskstate import (AttackRes, Move, RiskState, SetupPhase, \n",
    "                       RecruitmentPhase, FirstFromAttackPhase, FirstToAttackPhase, ContinueAttackPhase, \n",
    "                       ReinforcePhase, SubsequentAttackPhase, FortifyPhase1, FortifyPhase2, \n",
    "                       FortifyPhase3, new_game)\n",
    "\n",
    "Env = RiskEnv(2)\n",
    "Env.risk \n",
    "Env.reset()\n",
    "import random\n",
    "\n",
    "for i in range(41):\n",
    "    Env.step(i)\n",
    "for _ in range(100000):\n",
    "    if (len(Env.risk.action_space()) == 0):\n",
    "        print(f'{type(Env.risk).__name__} len 0')\n",
    "        break\n",
    "    Env.step( random.choice(Env.risk.action_space()) )\n",
    "\n",
    "    if _ % 10000 == 1:\n",
    "        print(type(Env.risk).__name__)\n",
    "        print(Env.get_short_observation())\n",
    "\n",
    "Env.get_observation()"
   ]
  }
 ],
 "metadata": {
  "kernelspec": {
   "display_name": "Python 3.9.16 ('ml-0451')",
   "language": "python",
   "name": "python3"
  },
  "language_info": {
   "codemirror_mode": {
    "name": "ipython",
    "version": 3
   },
   "file_extension": ".py",
   "mimetype": "text/x-python",
   "name": "python",
   "nbconvert_exporter": "python",
   "pygments_lexer": "ipython3",
   "version": "3.9.16"
  },
  "orig_nbformat": 4,
  "vscode": {
   "interpreter": {
    "hash": "36033837ca5e6abf9a43c4a709581da0f1bce294681611fcdfc747795309e2af"
   }
  }
 },
 "nbformat": 4,
 "nbformat_minor": 2
}
