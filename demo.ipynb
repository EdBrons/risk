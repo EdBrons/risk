{
 "cells": [
  {
   "cell_type": "code",
   "execution_count": 183,
   "metadata": {},
   "outputs": [
    {
     "data": {
      "text/plain": [
       "<riskstate.SetupPhase at 0x7fe0c01e7850>"
      ]
     },
     "execution_count": 183,
     "metadata": {},
     "output_type": "execute_result"
    }
   ],
   "source": [
    "%reload_ext autoreload \n",
    "%autoreload 2\n",
    "\n",
    "import numpy as np\n",
    "from enum import Enum, auto\n",
    "from maps import default_map\n",
    "from gymnasium.spaces import *\n",
    "from gymnasium import Env \n",
    "from riskenv import RiskEnv\n",
    "\n",
    "from riskstate import (AttackRes, Move, RiskState, SetupPhase, \n",
    "                       RecruitmentPhase, FirstFromAttackPhase, FirstToAttackPhase, ContinueAttackPhase, \n",
    "                       ReinforcePhase, SubsequentAttackPhase, FortifyPhase1, FortifyPhase2, \n",
    "                       FortifyPhase3, new_game)\n",
    "\n",
    "Env = RiskEnv(2)\n",
    "Env.risk \n"
   ]
  },
  {
   "cell_type": "code",
   "execution_count": 184,
   "metadata": {},
   "outputs": [
    {
     "data": {
      "text/plain": [
       "<riskstate.RecruitmentPhase at 0x7fe0f241d430>"
      ]
     },
     "execution_count": 184,
     "metadata": {},
     "output_type": "execute_result"
    }
   ],
   "source": [
    "Env.reset()\n",
    "for i in range(42): \n",
    "    Env.step(i)\n",
    "\n",
    "Env.get_observation()\n",
    "Env.risk "
   ]
  },
  {
   "cell_type": "code",
   "execution_count": 185,
   "metadata": {},
   "outputs": [
    {
     "data": {
      "text/plain": [
       "<riskstate.FirstFromAttackPhase at 0x7fe0f241dbe0>"
      ]
     },
     "execution_count": 185,
     "metadata": {},
     "output_type": "execute_result"
    }
   ],
   "source": [
    "for i in range(7):\n",
    "    Env.step(0)\n",
    "Env.get_observation()\n",
    "Env.risk"
   ]
  },
  {
   "cell_type": "code",
   "execution_count": 186,
   "metadata": {},
   "outputs": [
    {
     "name": "stdout",
     "output_type": "stream",
     "text": [
      "<riskstate.ReinforcePhase object at 0x7fe0f241d460>\n"
     ]
    },
    {
     "data": {
      "text/plain": [
       "{'Phase': 5,\n",
       " 'Territory': array([[5, 0],\n",
       "        [3, 0],\n",
       "        [1, 0],\n",
       "        [1, 1],\n",
       "        [1, 0],\n",
       "        [1, 1],\n",
       "        [1, 0],\n",
       "        [1, 1],\n",
       "        [1, 0],\n",
       "        [1, 1],\n",
       "        [1, 0],\n",
       "        [1, 1],\n",
       "        [1, 0],\n",
       "        [1, 1],\n",
       "        [1, 0],\n",
       "        [1, 1],\n",
       "        [1, 0],\n",
       "        [1, 1],\n",
       "        [1, 0],\n",
       "        [1, 1],\n",
       "        [1, 0],\n",
       "        [1, 1],\n",
       "        [1, 0],\n",
       "        [1, 1],\n",
       "        [1, 0],\n",
       "        [1, 1],\n",
       "        [1, 0],\n",
       "        [1, 1],\n",
       "        [1, 0],\n",
       "        [1, 1],\n",
       "        [1, 0],\n",
       "        [1, 1],\n",
       "        [1, 0],\n",
       "        [1, 1],\n",
       "        [1, 0],\n",
       "        [1, 1],\n",
       "        [1, 0],\n",
       "        [1, 1],\n",
       "        [1, 0],\n",
       "        [1, 1],\n",
       "        [1, 0],\n",
       "        [1, 1]])}"
      ]
     },
     "execution_count": 186,
     "metadata": {},
     "output_type": "execute_result"
    }
   ],
   "source": [
    "Env.step(0)\n",
    "Env.step(1)\n",
    "print(Env.risk)\n",
    "Env.get_observation()\n"
   ]
  },
  {
   "cell_type": "code",
   "execution_count": 187,
   "metadata": {},
   "outputs": [
    {
     "name": "stdout",
     "output_type": "stream",
     "text": [
      "{'Phase': 6, 'Territory': array([[5, 0],\n",
      "       [3, 0],\n",
      "       [1, 0],\n",
      "       [1, 1],\n",
      "       [1, 0],\n",
      "       [1, 1],\n",
      "       [1, 0],\n",
      "       [1, 1],\n",
      "       [1, 0],\n",
      "       [1, 1],\n",
      "       [1, 0],\n",
      "       [1, 1],\n",
      "       [1, 0],\n",
      "       [1, 1],\n",
      "       [1, 0],\n",
      "       [1, 1],\n",
      "       [1, 0],\n",
      "       [1, 1],\n",
      "       [1, 0],\n",
      "       [1, 1],\n",
      "       [1, 0],\n",
      "       [1, 1],\n",
      "       [1, 0],\n",
      "       [1, 1],\n",
      "       [1, 0],\n",
      "       [1, 1],\n",
      "       [1, 0],\n",
      "       [1, 1],\n",
      "       [1, 0],\n",
      "       [1, 1],\n",
      "       [1, 0],\n",
      "       [1, 1],\n",
      "       [1, 0],\n",
      "       [1, 1],\n",
      "       [1, 0],\n",
      "       [1, 1],\n",
      "       [1, 0],\n",
      "       [1, 1],\n",
      "       [1, 0],\n",
      "       [1, 1],\n",
      "       [1, 0],\n",
      "       [1, 1]])}\n"
     ]
    },
    {
     "data": {
      "text/plain": [
       "<riskstate.SubsequentAttackPhase at 0x7fe0c01fc1c0>"
      ]
     },
     "execution_count": 187,
     "metadata": {},
     "output_type": "execute_result"
    }
   ],
   "source": [
    "Env.step(0)\n",
    "print(Env.get_observation())\n",
    "Env.risk"
   ]
  },
  {
   "cell_type": "code",
   "execution_count": 188,
   "metadata": {},
   "outputs": [
    {
     "data": {
      "text/plain": [
       "[3]"
      ]
     },
     "execution_count": 188,
     "metadata": {},
     "output_type": "execute_result"
    }
   ],
   "source": [
    "Env.risk.action_space()"
   ]
  },
  {
   "cell_type": "code",
   "execution_count": 189,
   "metadata": {},
   "outputs": [
    {
     "name": "stdout",
     "output_type": "stream",
     "text": [
      "<riskstate.ContinueAttackPhase object at 0x7fe0f241d130>\n"
     ]
    },
    {
     "data": {
      "text/plain": [
       "{'Phase': 4,\n",
       " 'Territory': array([[5, 0],\n",
       "        [2, 0],\n",
       "        [1, 0],\n",
       "        [1, 1],\n",
       "        [1, 0],\n",
       "        [1, 1],\n",
       "        [1, 0],\n",
       "        [1, 1],\n",
       "        [1, 0],\n",
       "        [1, 1],\n",
       "        [1, 0],\n",
       "        [1, 1],\n",
       "        [1, 0],\n",
       "        [1, 1],\n",
       "        [1, 0],\n",
       "        [1, 1],\n",
       "        [1, 0],\n",
       "        [1, 1],\n",
       "        [1, 0],\n",
       "        [1, 1],\n",
       "        [1, 0],\n",
       "        [1, 1],\n",
       "        [1, 0],\n",
       "        [1, 1],\n",
       "        [1, 0],\n",
       "        [1, 1],\n",
       "        [1, 0],\n",
       "        [1, 1],\n",
       "        [1, 0],\n",
       "        [1, 1],\n",
       "        [1, 0],\n",
       "        [1, 1],\n",
       "        [1, 0],\n",
       "        [1, 1],\n",
       "        [1, 0],\n",
       "        [1, 1],\n",
       "        [1, 0],\n",
       "        [1, 1],\n",
       "        [1, 0],\n",
       "        [1, 1],\n",
       "        [1, 0],\n",
       "        [1, 1]])}"
      ]
     },
     "execution_count": 189,
     "metadata": {},
     "output_type": "execute_result"
    }
   ],
   "source": [
    "Env.step(3)\n",
    "print(Env.risk)\n",
    "Env.get_observation()"
   ]
  },
  {
   "cell_type": "code",
   "execution_count": 198,
   "metadata": {},
   "outputs": [
    {
     "data": {
      "text/plain": [
       "<riskstate.FortifyPhase1 at 0x7fe0c01e7a60>"
      ]
     },
     "execution_count": 198,
     "metadata": {},
     "output_type": "execute_result"
    }
   ],
   "source": [
    "\n",
    "#Env.risk.step(1)\n",
    "#Env.step(0)\n",
    "Env.risk"
   ]
  },
  {
   "cell_type": "code",
   "execution_count": 200,
   "metadata": {},
   "outputs": [
    {
     "data": {
      "text/plain": [
       "array([ 0,  1,  2,  4,  6,  8, 10, 12, 14, 16, 18, 20, 22, 24, 26, 28, 30,\n",
       "       32, 34, 36, 38, 40])"
      ]
     },
     "execution_count": 200,
     "metadata": {},
     "output_type": "execute_result"
    }
   ],
   "source": [
    "Env.risk.action_space()"
   ]
  },
  {
   "cell_type": "code",
   "execution_count": 201,
   "metadata": {},
   "outputs": [
    {
     "data": {
      "text/plain": [
       "({'Phase': 8,\n",
       "  'Territory': array([[5, 0],\n",
       "         [2, 0],\n",
       "         [1, 0],\n",
       "         [1, 1],\n",
       "         [1, 0],\n",
       "         [1, 1],\n",
       "         [1, 0],\n",
       "         [1, 1],\n",
       "         [1, 0],\n",
       "         [1, 1],\n",
       "         [1, 0],\n",
       "         [1, 1],\n",
       "         [1, 0],\n",
       "         [1, 1],\n",
       "         [1, 0],\n",
       "         [1, 1],\n",
       "         [1, 0],\n",
       "         [1, 1],\n",
       "         [1, 0],\n",
       "         [1, 1],\n",
       "         [1, 0],\n",
       "         [1, 1],\n",
       "         [1, 0],\n",
       "         [1, 1],\n",
       "         [1, 0],\n",
       "         [1, 1],\n",
       "         [1, 0],\n",
       "         [1, 1],\n",
       "         [1, 0],\n",
       "         [1, 1],\n",
       "         [1, 0],\n",
       "         [1, 1],\n",
       "         [1, 0],\n",
       "         [1, 1],\n",
       "         [1, 0],\n",
       "         [1, 1],\n",
       "         [1, 0],\n",
       "         [1, 1],\n",
       "         [1, 0],\n",
       "         [1, 1],\n",
       "         [1, 0],\n",
       "         [1, 1]])},\n",
       " -1,\n",
       " False,\n",
       " {})"
      ]
     },
     "execution_count": 201,
     "metadata": {},
     "output_type": "execute_result"
    }
   ],
   "source": [
    "Env.step(0)"
   ]
  },
  {
   "cell_type": "code",
   "execution_count": 203,
   "metadata": {},
   "outputs": [
    {
     "data": {
      "text/plain": [
       "array([ 0,  1,  2,  4,  6,  8, 10, 12, 14, 16, 18, 20, 22, 24, 26, 28, 30,\n",
       "       32, 34, 36, 38, 40])"
      ]
     },
     "execution_count": 203,
     "metadata": {},
     "output_type": "execute_result"
    }
   ],
   "source": [
    "Env.risk.action_space()"
   ]
  },
  {
   "cell_type": "code",
   "execution_count": 182,
   "metadata": {},
   "outputs": [
    {
     "name": "stdout",
     "output_type": "stream",
     "text": [
      "({'player_0': 21, 'player_1': 21}, 42)\n",
      "({'player_0': 21, 'player_1': 21}, 43)\n",
      "({'player_0': 21, 'player_1': 21}, 43)\n",
      "({'player_0': 21, 'player_1': 21}, 43)\n",
      "({'player_0': 21, 'player_1': 21}, 43)\n",
      "({'player_0': 21, 'player_1': 21}, 43)\n",
      "({'player_0': 21, 'player_1': 21}, 43)\n",
      "({'player_0': 21, 'player_1': 21}, 43)\n",
      "({'player_0': 21, 'player_1': 21}, 43)\n",
      "({'player_0': 21, 'player_1': 21}, 43)\n"
     ]
    },
    {
     "data": {
      "text/plain": [
       "{'Phase': 2,\n",
       " 'Territory': array([[1, 0],\n",
       "        [1, 1],\n",
       "        [2, 0],\n",
       "        [1, 1],\n",
       "        [2, 0],\n",
       "        [1, 1],\n",
       "        [1, 0],\n",
       "        [1, 1],\n",
       "        [2, 0],\n",
       "        [1, 1],\n",
       "        [1, 0],\n",
       "        [1, 1],\n",
       "        [1, 0],\n",
       "        [1, 1],\n",
       "        [1, 0],\n",
       "        [1, 1],\n",
       "        [1, 0],\n",
       "        [1, 1],\n",
       "        [1, 0],\n",
       "        [1, 1],\n",
       "        [2, 0],\n",
       "        [1, 1],\n",
       "        [1, 0],\n",
       "        [1, 1],\n",
       "        [1, 0],\n",
       "        [1, 1],\n",
       "        [1, 0],\n",
       "        [1, 1],\n",
       "        [1, 0],\n",
       "        [1, 1],\n",
       "        [1, 0],\n",
       "        [1, 1],\n",
       "        [1, 0],\n",
       "        [1, 1],\n",
       "        [2, 0],\n",
       "        [1, 1],\n",
       "        [1, 0],\n",
       "        [1, 1],\n",
       "        [2, 0],\n",
       "        [1, 1],\n",
       "        [2, 0],\n",
       "        [1, 1]])}"
      ]
     },
     "execution_count": 182,
     "metadata": {},
     "output_type": "execute_result"
    }
   ],
   "source": [
    "Env.reset()\n",
    "import random\n",
    "\n",
    "for i in range(41):\n",
    "    Env.step(i)\n",
    "for _ in range(100000):\n",
    "    Env.step( random.choice(Env.risk.action_space()) )\n",
    "\n",
    "    if _ % 10000 == 1:\n",
    "        print(Env.get_short_observation())\n",
    "\n",
    "Env.get_observation()"
   ]
  },
  {
   "cell_type": "code",
   "execution_count": 169,
   "metadata": {},
   "outputs": [
    {
     "data": {
      "text/plain": [
       "array([ 0,  1,  2,  3,  4,  5,  6,  7,  8,  9, 10, 11, 12, 13, 14, 15, 16,\n",
       "       17, 18, 19, 20, 21, 22, 23, 24, 25, 26, 27, 28, 29, 30, 31, 32, 33,\n",
       "       34, 35, 36, 37, 38, 39, 40, 41])"
      ]
     },
     "execution_count": 169,
     "metadata": {},
     "output_type": "execute_result"
    }
   ],
   "source": [
    "Env.reset()\n",
    "from riskstate import SetupPhase\n",
    "\n",
    "t = SetupPhase(0, 0, [0, 1], Env.risk.territories, len(Env.risk.territories))\n",
    "t.action_space()"
   ]
  },
  {
   "cell_type": "code",
   "execution_count": 7,
   "metadata": {},
   "outputs": [
    {
     "data": {
      "text/plain": [
       "array([[1, 0],\n",
       "       [1, 1],\n",
       "       [1, 2],\n",
       "       [1, 0],\n",
       "       [1, 1],\n",
       "       [1, 2],\n",
       "       [1, 0],\n",
       "       [1, 1],\n",
       "       [1, 2],\n",
       "       [1, 0],\n",
       "       [1, 1],\n",
       "       [1, 2],\n",
       "       [1, 0],\n",
       "       [1, 1],\n",
       "       [1, 2],\n",
       "       [1, 0],\n",
       "       [1, 1],\n",
       "       [1, 2],\n",
       "       [1, 0],\n",
       "       [1, 1],\n",
       "       [1, 2],\n",
       "       [1, 0],\n",
       "       [1, 1],\n",
       "       [1, 2],\n",
       "       [1, 0],\n",
       "       [1, 1],\n",
       "       [1, 2],\n",
       "       [1, 0],\n",
       "       [1, 1],\n",
       "       [1, 2],\n",
       "       [1, 0],\n",
       "       [1, 1],\n",
       "       [1, 2],\n",
       "       [1, 0],\n",
       "       [1, 1],\n",
       "       [1, 2],\n",
       "       [1, 0],\n",
       "       [1, 1],\n",
       "       [1, 2],\n",
       "       [1, 0],\n",
       "       [1, 1],\n",
       "       [1, 2]])"
      ]
     },
     "execution_count": 7,
     "metadata": {},
     "output_type": "execute_result"
    }
   ],
   "source": [
    "Env.reset()\n",
    "for i in range(42):\n",
    "    Env.step(i)\n",
    "\n",
    "Env.risk.territories\n"
   ]
  },
  {
   "cell_type": "code",
   "execution_count": 52,
   "metadata": {},
   "outputs": [
    {
     "data": {
      "text/plain": [
       "{'Phase': 1,\n",
       " 'Territory': array([[1, 0],\n",
       "        [1, 1],\n",
       "        [1, 0],\n",
       "        [1, 1],\n",
       "        [1, 0],\n",
       "        [1, 1],\n",
       "        [1, 0],\n",
       "        [1, 1],\n",
       "        [1, 0],\n",
       "        [1, 1],\n",
       "        [1, 0],\n",
       "        [1, 1],\n",
       "        [1, 0],\n",
       "        [1, 1],\n",
       "        [1, 0],\n",
       "        [1, 1],\n",
       "        [1, 0],\n",
       "        [1, 1],\n",
       "        [1, 0],\n",
       "        [1, 1],\n",
       "        [1, 0],\n",
       "        [1, 1],\n",
       "        [1, 0],\n",
       "        [1, 1],\n",
       "        [1, 0],\n",
       "        [1, 1],\n",
       "        [1, 0],\n",
       "        [1, 1],\n",
       "        [1, 0],\n",
       "        [1, 1],\n",
       "        [1, 0],\n",
       "        [1, 1],\n",
       "        [1, 0],\n",
       "        [1, 1],\n",
       "        [1, 0],\n",
       "        [1, 1],\n",
       "        [1, 0],\n",
       "        [1, 1],\n",
       "        [1, 0],\n",
       "        [1, 1],\n",
       "        [1, 0],\n",
       "        [1, 1]])}"
      ]
     },
     "execution_count": 52,
     "metadata": {},
     "output_type": "execute_result"
    }
   ],
   "source": [
    "Env.get_observation()"
   ]
  },
  {
   "cell_type": "code",
   "execution_count": 54,
   "metadata": {},
   "outputs": [
    {
     "data": {
      "text/plain": [
       "array([ 0,  2,  4,  6,  8, 10, 12, 14, 16, 18, 20, 22, 24, 26, 28, 30, 32,\n",
       "       34, 36, 38, 40])"
      ]
     },
     "execution_count": 54,
     "metadata": {},
     "output_type": "execute_result"
    }
   ],
   "source": [
    "(Env.risk.territories[:, 1] == Env.risk.current_player).nonzero()[0]"
   ]
  },
  {
   "cell_type": "code",
   "execution_count": null,
   "metadata": {},
   "outputs": [],
   "source": []
  }
 ],
 "metadata": {
  "kernelspec": {
   "display_name": "Python 3.9.16 ('ml-0451')",
   "language": "python",
   "name": "python3"
  },
  "language_info": {
   "codemirror_mode": {
    "name": "ipython",
    "version": 3
   },
   "file_extension": ".py",
   "mimetype": "text/x-python",
   "name": "python",
   "nbconvert_exporter": "python",
   "pygments_lexer": "ipython3",
   "version": "3.9.16"
  },
  "orig_nbformat": 4,
  "vscode": {
   "interpreter": {
    "hash": "36033837ca5e6abf9a43c4a709581da0f1bce294681611fcdfc747795309e2af"
   }
  }
 },
 "nbformat": 4,
 "nbformat_minor": 2
}
