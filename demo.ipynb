{
 "cells": [
  {
   "cell_type": "code",
   "execution_count": 14,
   "metadata": {},
   "outputs": [
    {
     "ename": "AttributeError",
     "evalue": "'int' object has no attribute 'shape'",
     "output_type": "error",
     "traceback": [
      "\u001b[0;31m---------------------------------------------------------------------------\u001b[0m",
      "\u001b[0;31mAttributeError\u001b[0m                            Traceback (most recent call last)",
      "Cell \u001b[0;32mIn[14], line 16\u001b[0m\n\u001b[1;32m      9\u001b[0m \u001b[39mfrom\u001b[39;00m \u001b[39mriskenv\u001b[39;00m \u001b[39mimport\u001b[39;00m RiskEnv\n\u001b[1;32m     11\u001b[0m \u001b[39mfrom\u001b[39;00m \u001b[39mriskstate\u001b[39;00m \u001b[39mimport\u001b[39;00m (AttackRes, Move, RiskState, SetupPhase, \n\u001b[1;32m     12\u001b[0m                        RecruitmentPhase, FirstAttackPhase, ContinueAttackPhase, \n\u001b[1;32m     13\u001b[0m                        ReinforcePhase, SubsequentAttackPhase, FortifyPhase1, FortifyPhase2, \n\u001b[1;32m     14\u001b[0m                        FortifyPhase3, new_game)\n\u001b[0;32m---> 16\u001b[0m Env \u001b[39m=\u001b[39m RiskEnv()\n\u001b[1;32m     17\u001b[0m Env\u001b[39m.\u001b[39mget_observation()\n\u001b[1;32m     18\u001b[0m Env\u001b[39m.\u001b[39mstep(\u001b[39m0\u001b[39m) \n",
      "File \u001b[0;32m~/git/risk/riskenv.py:19\u001b[0m, in \u001b[0;36mRiskEnv.__init__\u001b[0;34m(self, n_players)\u001b[0m\n\u001b[1;32m     16\u001b[0m \u001b[39mself\u001b[39m\u001b[39m.\u001b[39mrisk \u001b[39m=\u001b[39m new_game(n_players)\n\u001b[1;32m     17\u001b[0m \u001b[39mself\u001b[39m\u001b[39m.\u001b[39mobservation_unit_max \u001b[39m=\u001b[39m \u001b[39m10\u001b[39m\n\u001b[0;32m---> 19\u001b[0m n_territories \u001b[39m=\u001b[39m \u001b[39mself\u001b[39;49m\u001b[39m.\u001b[39;49mrisk\u001b[39m.\u001b[39;49mn_territories()\n\u001b[1;32m     20\u001b[0m \u001b[39mself\u001b[39m\u001b[39m.\u001b[39mn_phases \u001b[39m=\u001b[39m \u001b[39mlen\u001b[39m(Phases)\n\u001b[1;32m     21\u001b[0m \u001b[39mself\u001b[39m\u001b[39m.\u001b[39mMAX_ARMIES \u001b[39m=\u001b[39m \u001b[39m5\u001b[39m\n",
      "File \u001b[0;32m~/git/risk/riskstate.py:37\u001b[0m, in \u001b[0;36mRiskState.n_territories\u001b[0;34m(self)\u001b[0m\n\u001b[1;32m     36\u001b[0m \u001b[39mdef\u001b[39;00m \u001b[39mn_territories\u001b[39m(\u001b[39mself\u001b[39m):\n\u001b[0;32m---> 37\u001b[0m     \u001b[39mreturn\u001b[39;00m \u001b[39mself\u001b[39;49m\u001b[39m.\u001b[39;49mterritories\u001b[39m.\u001b[39;49mshape[\u001b[39m0\u001b[39m]\n",
      "\u001b[0;31mAttributeError\u001b[0m: 'int' object has no attribute 'shape'"
     ]
    }
   ],
   "source": [
    "%reload_ext autoreload \n",
    "%autoreload 2\n",
    "\n",
    "import numpy as np\n",
    "from enum import Enum, auto\n",
    "from maps import default_map\n",
    "from gymnasium.spaces import *\n",
    "from gymnasium import Env \n",
    "from riskenv import RiskEnv\n",
    "\n",
    "from riskstate import (AttackRes, Move, RiskState, SetupPhase, \n",
    "                       RecruitmentPhase, FirstAttackPhase, ContinueAttackPhase, \n",
    "                       ReinforcePhase, SubsequentAttackPhase, FortifyPhase1, FortifyPhase2, \n",
    "                       FortifyPhase3, new_game)\n",
    "\n",
    "Env = RiskEnv()\n",
    "Env.get_observation()\n",
    "Env.step(0) \n",
    "Env.get_observation()"
   ]
  },
  {
   "cell_type": "code",
   "execution_count": null,
   "metadata": {},
   "outputs": [],
   "source": [
    "class Test(Env):\n",
    "    def __init__(self):\n",
    "        self.observation_space = Graph(node_space=Discrete(2), edge_space=Discrete(100))"
   ]
  },
  {
   "cell_type": "code",
   "execution_count": null,
   "metadata": {},
   "outputs": [],
   "source": [
    "t = Test() \n",
    "t.observation_space.sample(num_nodes = 41, num_edges= 100)"
   ]
  },
  {
   "cell_type": "code",
   "execution_count": null,
   "metadata": {},
   "outputs": [],
   "source": []
  }
 ],
 "metadata": {
  "kernelspec": {
   "display_name": "Python 3.9.16 ('ml-0451')",
   "language": "python",
   "name": "python3"
  },
  "language_info": {
   "codemirror_mode": {
    "name": "ipython",
    "version": 3
   },
   "file_extension": ".py",
   "mimetype": "text/x-python",
   "name": "python",
   "nbconvert_exporter": "python",
   "pygments_lexer": "ipython3",
   "version": "3.9.16"
  },
  "orig_nbformat": 4,
  "vscode": {
   "interpreter": {
    "hash": "36033837ca5e6abf9a43c4a709581da0f1bce294681611fcdfc747795309e2af"
   }
  }
 },
 "nbformat": 4,
 "nbformat_minor": 2
}
