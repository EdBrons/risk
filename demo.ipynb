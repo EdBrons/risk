{
 "cells": [
  {
   "cell_type": "code",
   "execution_count": 2,
   "metadata": {},
   "outputs": [
    {
     "ename": "AttributeError",
     "evalue": "'function' object has no attribute 'keys'",
     "output_type": "error",
     "traceback": [
      "\u001b[0;31m---------------------------------------------------------------------------\u001b[0m",
      "\u001b[0;31mAttributeError\u001b[0m                            Traceback (most recent call last)",
      "Cell \u001b[0;32mIn[2], line 10\u001b[0m\n\u001b[1;32m      3\u001b[0m \u001b[39mfrom\u001b[39;00m \u001b[39mmaps\u001b[39;00m \u001b[39mimport\u001b[39;00m default_map\n\u001b[1;32m      5\u001b[0m \u001b[39mfrom\u001b[39;00m \u001b[39mriskstate\u001b[39;00m \u001b[39mimport\u001b[39;00m (AttackRes, Move, RiskState, SetupPhase, \n\u001b[1;32m      6\u001b[0m                        RecruitmentPhase, FirstAttackPhase, ContinueAttackPhase, \n\u001b[1;32m      7\u001b[0m                        ReinforcePhase, SubsequentAttackPhase, FortifyPhase1, FortifyPhase2, \n\u001b[1;32m      8\u001b[0m                        FortifyPhase3, new_game)\n\u001b[0;32m---> 10\u001b[0m new_game(\u001b[39m3\u001b[39;49m)\n",
      "File \u001b[0;32m~/Desktop/risk/riskstate.py:19\u001b[0m, in \u001b[0;36mnew_game\u001b[0;34m(n_players)\u001b[0m\n\u001b[1;32m     18\u001b[0m \u001b[39mdef\u001b[39;00m \u001b[39mnew_game\u001b[39m(n_players):\n\u001b[0;32m---> 19\u001b[0m     n_territories \u001b[39m=\u001b[39m \u001b[39mlen\u001b[39m(default_map\u001b[39m.\u001b[39;49mkeys())\n\u001b[1;32m     21\u001b[0m     initial_territories \u001b[39m=\u001b[39m np\u001b[39m.\u001b[39marray([np\u001b[39m.\u001b[39marray([\u001b[39m0\u001b[39m, \u001b[39m-\u001b[39m\u001b[39m1\u001b[39m])] \u001b[39m*\u001b[39m n_territories)\n\u001b[1;32m     22\u001b[0m     \u001b[39mreturn\u001b[39;00m RiskState( \u001b[39m0\u001b[39m, \u001b[39m0\u001b[39m, [ _ \u001b[39mfor\u001b[39;00m _ \u001b[39min\u001b[39;00m \u001b[39mrange\u001b[39m(n_players) ], initial_territories )\n",
      "\u001b[0;31mAttributeError\u001b[0m: 'function' object has no attribute 'keys'"
     ]
    }
   ],
   "source": [
    "import numpy as np\n",
    "from enum import Enum, auto\n",
    "from maps import default_map\n",
    "\n",
    "from riskstate import (AttackRes, Move, RiskState, SetupPhase, \n",
    "                       RecruitmentPhase, FirstAttackPhase, ContinueAttackPhase, \n",
    "                       ReinforcePhase, SubsequentAttackPhase, FortifyPhase1, FortifyPhase2, \n",
    "                       FortifyPhase3, new_game)\n",
    "\n",
    "new_game(3)"
   ]
  },
  {
   "cell_type": "code",
   "execution_count": null,
   "metadata": {},
   "outputs": [],
   "source": []
  }
 ],
 "metadata": {
  "kernelspec": {
   "display_name": "ml-0451",
   "language": "python",
   "name": "python3"
  },
  "language_info": {
   "codemirror_mode": {
    "name": "ipython",
    "version": 3
   },
   "file_extension": ".py",
   "mimetype": "text/x-python",
   "name": "python",
   "nbconvert_exporter": "python",
   "pygments_lexer": "ipython3",
   "version": "3.9.16"
  },
  "orig_nbformat": 4
 },
 "nbformat": 4,
 "nbformat_minor": 2
}
