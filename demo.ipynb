{
 "cells": [
  {
   "cell_type": "code",
   "execution_count": 1,
   "metadata": {},
   "outputs": [
    {
     "name": "stdout",
     "output_type": "stream",
     "text": [
      "[0, 1, 2, 3, 4, 5, 6, 7, 8, 9, 10, 11, 12, 13, 14, 15, 16, 17, 18, 19, 20, 21, 22, 23, 24, 25, 26, 27, 28, 29, 30, 31, 32, 33, 34, 35, 36, 37, 38, 39, 40, 41]\n"
     ]
    },
    {
     "ename": "IndexError",
     "evalue": "index 50 is out of bounds for axis 0 with size 42",
     "output_type": "error",
     "traceback": [
      "\u001b[0;31m---------------------------------------------------------------------------\u001b[0m",
      "\u001b[0;31mIndexError\u001b[0m                                Traceback (most recent call last)",
      "Cell \u001b[0;32mIn[1], line 15\u001b[0m\n\u001b[1;32m     13\u001b[0m setUpPhase \u001b[39m=\u001b[39m SetupPhase(\u001b[39m0\u001b[39m, \u001b[39m0\u001b[39m, risk\u001b[39m.\u001b[39mactive_players, \u001b[39m20\u001b[39m)\n\u001b[1;32m     14\u001b[0m \u001b[39mprint\u001b[39m(setUpPhase\u001b[39m.\u001b[39maction_space())\n\u001b[0;32m---> 15\u001b[0m setUpPhase\u001b[39m.\u001b[39;49mis_valid(\u001b[39m50\u001b[39;49m)\n",
      "File \u001b[0;32m~/Desktop/risk/riskstate.py:118\u001b[0m, in \u001b[0;36mSetupPhase.is_valid\u001b[0;34m(self, move)\u001b[0m\n\u001b[1;32m    117\u001b[0m \u001b[39mdef\u001b[39;00m \u001b[39mis_valid\u001b[39m(\u001b[39mself\u001b[39m, move):\n\u001b[0;32m--> 118\u001b[0m     \u001b[39mreturn\u001b[39;00m move \u001b[39min\u001b[39;00m \u001b[39mself\u001b[39m\u001b[39m.\u001b[39maction_space() \u001b[39mand\u001b[39;00m TERRITORIES[move, OWNER] \u001b[39m==\u001b[39m NO_OWNER \u001b[39mor\u001b[39;00m TERRITORIES[move, OWNER] \u001b[39m==\u001b[39m \u001b[39mself\u001b[39m\u001b[39m.\u001b[39mcurrent_player\n",
      "\u001b[0;31mIndexError\u001b[0m: index 50 is out of bounds for axis 0 with size 42"
     ]
    }
   ],
   "source": [
    "import numpy as np\n",
    "from enum import Enum, auto\n",
    "from maps import default_map\n",
    "\n",
    "from riskstate import (AttackRes, Move, RiskState, SetupPhase, \n",
    "                       RecruitmentPhase, FirstAttackPhase, ContinueAttackPhase, \n",
    "                       ReinforcePhase, SubsequentAttackPhase, FortifyPhase1, FortifyPhase2, \n",
    "                       FortifyPhase3, new_game, TERRITORIES)\n",
    "\n",
    "risk = new_game(2)\n",
    "risk.active_players\n",
    "\n",
    "setUpPhase = SetupPhase(0, 0, risk.active_players, 20)\n",
    "print(setUpPhase.action_space())\n",
    "setUpPhase.is_valid(50)\n"
   ]
  },
  {
   "cell_type": "code",
   "execution_count": null,
   "metadata": {},
   "outputs": [],
   "source": []
  },
  {
   "cell_type": "code",
   "execution_count": null,
   "metadata": {},
   "outputs": [],
   "source": []
  },
  {
   "cell_type": "code",
   "execution_count": null,
   "metadata": {},
   "outputs": [],
   "source": []
  }
 ],
 "metadata": {
  "kernelspec": {
   "display_name": "ml-0451",
   "language": "python",
   "name": "python3"
  },
  "language_info": {
   "codemirror_mode": {
    "name": "ipython",
    "version": 3
   },
   "file_extension": ".py",
   "mimetype": "text/x-python",
   "name": "python",
   "nbconvert_exporter": "python",
   "pygments_lexer": "ipython3",
   "version": "3.9.16"
  },
  "orig_nbformat": 4
 },
 "nbformat": 4,
 "nbformat_minor": 2
}
