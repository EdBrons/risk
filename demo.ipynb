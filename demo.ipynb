{
 "cells": [
  {
   "cell_type": "code",
   "execution_count": 171,
   "metadata": {},
   "outputs": [
    {
     "data": {
      "text/plain": [
       "<riskstate.SetupPhase at 0x7f780adaaf10>"
      ]
     },
     "execution_count": 171,
     "metadata": {},
     "output_type": "execute_result"
    }
   ],
   "source": [
    "%reload_ext autoreload \n",
    "%autoreload 2\n",
    "\n",
    "import numpy as np\n",
    "from enum import Enum, auto\n",
    "from maps import default_map\n",
    "from gymnasium.spaces import *\n",
    "from gymnasium import Env \n",
    "from riskenv import RiskEnv\n",
    "\n",
    "from riskstate import (AttackRes, Move, RiskState, SetupPhase, \n",
    "                       RecruitmentPhase, FirstFromAttackPhase, FirstToAttackPhase, ContinueAttackPhase, \n",
    "                       ReinforcePhase, SubsequentAttackPhase, FortifyPhase1, FortifyPhase2, \n",
    "                       FortifyPhase3, new_game)\n",
    "\n",
    "Env = RiskEnv()\n",
    "Env.risk "
   ]
  },
  {
   "cell_type": "code",
   "execution_count": 150,
   "metadata": {},
   "outputs": [
    {
     "name": "stdout",
     "output_type": "stream",
     "text": [
      "{'Phase': 1, 'Territory': array([[1, 0],\n",
      "       [1, 1],\n",
      "       [1, 0],\n",
      "       [1, 1],\n",
      "       [1, 0],\n",
      "       [1, 1],\n",
      "       [1, 0],\n",
      "       [1, 1],\n",
      "       [1, 0],\n",
      "       [1, 1],\n",
      "       [1, 0],\n",
      "       [1, 1],\n",
      "       [1, 0],\n",
      "       [1, 1],\n",
      "       [1, 0],\n",
      "       [1, 1],\n",
      "       [1, 0],\n",
      "       [1, 1],\n",
      "       [1, 0],\n",
      "       [1, 1],\n",
      "       [1, 0],\n",
      "       [1, 1],\n",
      "       [1, 0],\n",
      "       [1, 1],\n",
      "       [1, 0],\n",
      "       [1, 1],\n",
      "       [1, 0],\n",
      "       [1, 1],\n",
      "       [1, 0],\n",
      "       [1, 1],\n",
      "       [1, 0],\n",
      "       [1, 1],\n",
      "       [1, 0],\n",
      "       [1, 1],\n",
      "       [1, 0],\n",
      "       [1, 1],\n",
      "       [1, 0],\n",
      "       [1, 1],\n",
      "       [1, 0],\n",
      "       [1, 1],\n",
      "       [1, 0],\n",
      "       [1, 1]])}\n"
     ]
    },
    {
     "data": {
      "text/plain": [
       "<riskstate.RecruitmentPhase at 0x7f7800b0cbb0>"
      ]
     },
     "execution_count": 150,
     "metadata": {},
     "output_type": "execute_result"
    }
   ],
   "source": [
    "Env.reset()\n",
    "for i in range(42): \n",
    "    Env.step(i)\n",
    "\n",
    "print(Env.get_observation())\n",
    "Env.risk "
   ]
  },
  {
   "cell_type": "code",
   "execution_count": 151,
   "metadata": {},
   "outputs": [
    {
     "data": {
      "text/plain": [
       "<riskstate.FirstFromAttackPhase at 0x7f780a9f47c0>"
      ]
     },
     "execution_count": 151,
     "metadata": {},
     "output_type": "execute_result"
    }
   ],
   "source": [
    "for i in range(Env.risk.Nrecruits):\n",
    "    Env.step(0)\n",
    "Env.risk "
   ]
  },
  {
   "cell_type": "code",
   "execution_count": 152,
   "metadata": {},
   "outputs": [
    {
     "data": {
      "text/plain": [
       "({'Phase': 3,\n",
       "  'Territory': array([[8, 0],\n",
       "         [1, 1],\n",
       "         [1, 0],\n",
       "         [1, 1],\n",
       "         [1, 0],\n",
       "         [1, 1],\n",
       "         [1, 0],\n",
       "         [1, 1],\n",
       "         [1, 0],\n",
       "         [1, 1],\n",
       "         [1, 0],\n",
       "         [1, 1],\n",
       "         [1, 0],\n",
       "         [1, 1],\n",
       "         [1, 0],\n",
       "         [1, 1],\n",
       "         [1, 0],\n",
       "         [1, 1],\n",
       "         [1, 0],\n",
       "         [1, 1],\n",
       "         [1, 0],\n",
       "         [1, 1],\n",
       "         [1, 0],\n",
       "         [1, 1],\n",
       "         [1, 0],\n",
       "         [1, 1],\n",
       "         [1, 0],\n",
       "         [1, 1],\n",
       "         [1, 0],\n",
       "         [1, 1],\n",
       "         [1, 0],\n",
       "         [1, 1],\n",
       "         [1, 0],\n",
       "         [1, 1],\n",
       "         [1, 0],\n",
       "         [1, 1],\n",
       "         [1, 0],\n",
       "         [1, 1],\n",
       "         [1, 0],\n",
       "         [1, 1],\n",
       "         [1, 0],\n",
       "         [1, 1]])},\n",
       " -1,\n",
       " False,\n",
       " {})"
      ]
     },
     "execution_count": 152,
     "metadata": {},
     "output_type": "execute_result"
    }
   ],
   "source": [
    "Env.step(0)\n"
   ]
  },
  {
   "cell_type": "code",
   "execution_count": 158,
   "metadata": {},
   "outputs": [
    {
     "ename": "UnboundLocalError",
     "evalue": "local variable 'new_territories' referenced before assignment",
     "output_type": "error",
     "traceback": [
      "\u001b[0;31m---------------------------------------------------------------------------\u001b[0m",
      "\u001b[0;31mUnboundLocalError\u001b[0m                         Traceback (most recent call last)",
      "Cell \u001b[0;32mIn[158], line 1\u001b[0m\n\u001b[0;32m----> 1\u001b[0m Env\u001b[39m.\u001b[39;49mstep(\u001b[39m0\u001b[39;49m)\n",
      "File \u001b[0;32m~/Desktop/risk/riskenv.py:43\u001b[0m, in \u001b[0;36mstep\u001b[0;34m(self, action)\u001b[0m\n\u001b[1;32m     41\u001b[0m info = {} \n\u001b[1;32m     42\u001b[0m res, state = self.risk.step(action)\n\u001b[0;32m---> 43\u001b[0m #If invalid move\n\u001b[1;32m     44\u001b[0m if res == Move.INVALID:\n\u001b[1;32m     45\u001b[0m     self.reward -= 0\n",
      "File \u001b[0;32m~/Desktop/risk/riskstate.py:246\u001b[0m, in \u001b[0;36mContinueAttackPhase.step\u001b[0;34m(self, move)\u001b[0m\n\u001b[1;32m    244\u001b[0m     res, new_territories \u001b[39m=\u001b[39m \u001b[39mself\u001b[39m\u001b[39m.\u001b[39mdo_attack(\u001b[39mself\u001b[39m\u001b[39m.\u001b[39mfrm, \u001b[39mself\u001b[39m\u001b[39m.\u001b[39mto)\n\u001b[1;32m    245\u001b[0m     \u001b[39mreturn\u001b[39;00m handle_attack_res(\u001b[39mself\u001b[39m, \u001b[39mself\u001b[39m\u001b[39m.\u001b[39mfrm, \u001b[39mself\u001b[39m\u001b[39m.\u001b[39mto, res, new_territories)\n\u001b[0;32m--> 246\u001b[0m \u001b[39mreturn\u001b[39;00m (Move\u001b[39m.\u001b[39mVALID, FortifyPhase1(\u001b[39mself\u001b[39m\u001b[39m.\u001b[39mturn, \u001b[39mself\u001b[39m\u001b[39m.\u001b[39mcurrent_player, \u001b[39mself\u001b[39m\u001b[39m.\u001b[39mactive_players, new_territories))\n",
      "\u001b[0;31mUnboundLocalError\u001b[0m: local variable 'new_territories' referenced before assignment"
     ]
    }
   ],
   "source": [
    "Env.step(0)"
   ]
  },
  {
   "cell_type": "code",
   "execution_count": 134,
   "metadata": {},
   "outputs": [
    {
     "data": {
      "text/plain": [
       "[0]"
      ]
     },
     "execution_count": 134,
     "metadata": {},
     "output_type": "execute_result"
    }
   ],
   "source": []
  },
  {
   "cell_type": "code",
   "execution_count": 135,
   "metadata": {},
   "outputs": [
    {
     "data": {
      "text/plain": [
       "{'Phase': 5,\n",
       " 'Territory': array([[5, 0],\n",
       "        [1, 0],\n",
       "        [1, 0],\n",
       "        [2, 0],\n",
       "        [1, 0],\n",
       "        [1, 1],\n",
       "        [1, 0],\n",
       "        [1, 1],\n",
       "        [1, 0],\n",
       "        [1, 1],\n",
       "        [1, 0],\n",
       "        [1, 1],\n",
       "        [1, 0],\n",
       "        [1, 1],\n",
       "        [1, 0],\n",
       "        [1, 1],\n",
       "        [1, 0],\n",
       "        [1, 1],\n",
       "        [1, 0],\n",
       "        [1, 1],\n",
       "        [1, 0],\n",
       "        [1, 1],\n",
       "        [1, 0],\n",
       "        [1, 1],\n",
       "        [1, 0],\n",
       "        [1, 1],\n",
       "        [1, 0],\n",
       "        [1, 1],\n",
       "        [1, 0],\n",
       "        [1, 1],\n",
       "        [1, 0],\n",
       "        [1, 1],\n",
       "        [1, 0],\n",
       "        [1, 1],\n",
       "        [1, 0],\n",
       "        [1, 1],\n",
       "        [1, 0],\n",
       "        [1, 1],\n",
       "        [1, 0],\n",
       "        [1, 1],\n",
       "        [1, 0],\n",
       "        [1, 1]])}"
      ]
     },
     "execution_count": 135,
     "metadata": {},
     "output_type": "execute_result"
    }
   ],
   "source": [
    "Env.get_observation()"
   ]
  },
  {
   "cell_type": "code",
   "execution_count": 180,
   "metadata": {},
   "outputs": [
    {
     "ename": "ValueError",
     "evalue": "The truth value of an array with more than one element is ambiguous. Use a.any() or a.all()",
     "output_type": "error",
     "traceback": [
      "\u001b[0;31m---------------------------------------------------------------------------\u001b[0m",
      "\u001b[0;31mValueError\u001b[0m                                Traceback (most recent call last)",
      "Cell \u001b[0;32mIn[180], line 7\u001b[0m\n\u001b[1;32m      5\u001b[0m     Env\u001b[39m.\u001b[39mstep(i)\n\u001b[1;32m      6\u001b[0m \u001b[39mfor\u001b[39;00m _ \u001b[39min\u001b[39;00m \u001b[39mrange\u001b[39m(\u001b[39m100000\u001b[39m):\n\u001b[0;32m----> 7\u001b[0m     Env\u001b[39m.\u001b[39;49mstep( random\u001b[39m.\u001b[39;49mchoice(Env\u001b[39m.\u001b[39;49mrisk\u001b[39m.\u001b[39;49maction_space()) )\n\u001b[1;32m      9\u001b[0m     \u001b[39mif\u001b[39;00m _ \u001b[39m%\u001b[39m \u001b[39m10000\u001b[39m \u001b[39m==\u001b[39m \u001b[39m1\u001b[39m:\n\u001b[1;32m     10\u001b[0m         \u001b[39mprint\u001b[39m(Env\u001b[39m.\u001b[39mget_short_observation())\n",
      "File \u001b[0;32m~/Desktop/risk/riskenv.py:52\u001b[0m, in \u001b[0;36mRiskEnv.step\u001b[0;34m(self, action)\u001b[0m\n\u001b[1;32m     47\u001b[0m \u001b[39mdef\u001b[39;00m \u001b[39mstep\u001b[39m(\u001b[39mself\u001b[39m, action):\n\u001b[1;32m     48\u001b[0m     \u001b[39m#TODO: Implement the random player \u001b[39;00m\n\u001b[1;32m     49\u001b[0m     \u001b[39m# if self.risk.current_player != 0:\u001b[39;00m\n\u001b[1;32m     50\u001b[0m     \u001b[39m#     action = np.random.randint(43)\u001b[39;00m\n\u001b[1;32m     51\u001b[0m     info \u001b[39m=\u001b[39m {} \n\u001b[0;32m---> 52\u001b[0m     res, state \u001b[39m=\u001b[39m \u001b[39mself\u001b[39;49m\u001b[39m.\u001b[39;49mrisk\u001b[39m.\u001b[39;49mstep(action)\n\u001b[1;32m     53\u001b[0m     \u001b[39m#If invalid move\u001b[39;00m\n\u001b[1;32m     54\u001b[0m     \u001b[39mif\u001b[39;00m res \u001b[39m==\u001b[39m Move\u001b[39m.\u001b[39mINVALID:\n",
      "File \u001b[0;32m~/Desktop/risk/riskstate.py:176\u001b[0m, in \u001b[0;36mRecruitmentPhase.step\u001b[0;34m(self, move)\u001b[0m\n\u001b[1;32m    175\u001b[0m \u001b[39mdef\u001b[39;00m \u001b[39mstep\u001b[39m(\u001b[39mself\u001b[39m, move):\n\u001b[0;32m--> 176\u001b[0m     \u001b[39mif\u001b[39;00m \u001b[39mnot\u001b[39;00m \u001b[39mself\u001b[39m\u001b[39m.\u001b[39mis_valid(move):\n\u001b[1;32m    177\u001b[0m         \u001b[39mreturn\u001b[39;00m ( Move\u001b[39m.\u001b[39mINVALID, \u001b[39mself\u001b[39m )\n\u001b[1;32m    178\u001b[0m     new_territories \u001b[39m=\u001b[39m \u001b[39mself\u001b[39m\u001b[39m.\u001b[39mterritories\u001b[39m.\u001b[39mcopy()\n",
      "\u001b[0;31mValueError\u001b[0m: The truth value of an array with more than one element is ambiguous. Use a.any() or a.all()"
     ]
    }
   ],
   "source": [
    "Env.reset()\n",
    "import random\n",
    "\n",
    "for i in range(41):\n",
    "    Env.step(i)\n",
    "for _ in range(100000):\n",
    "    Env.step( random.choice(Env.risk.action_space()) )\n",
    "\n",
    "    if _ % 10000 == 1:\n",
    "        print(Env.get_short_observation())\n",
    "\n",
    "Env.get_observation()"
   ]
  },
  {
   "cell_type": "code",
   "execution_count": 169,
   "metadata": {},
   "outputs": [
    {
     "data": {
      "text/plain": [
       "array([ 0,  1,  2,  3,  4,  5,  6,  7,  8,  9, 10, 11, 12, 13, 14, 15, 16,\n",
       "       17, 18, 19, 20, 21, 22, 23, 24, 25, 26, 27, 28, 29, 30, 31, 32, 33,\n",
       "       34, 35, 36, 37, 38, 39, 40, 41])"
      ]
     },
     "execution_count": 169,
     "metadata": {},
     "output_type": "execute_result"
    }
   ],
   "source": [
    "Env.reset()\n",
    "from riskstate import SetupPhase\n",
    "\n",
    "t = SetupPhase(0, 0, [0, 1], Env.risk.territories, len(Env.risk.territories))\n",
    "t.action_space()"
   ]
  },
  {
   "cell_type": "code",
   "execution_count": null,
   "metadata": {},
   "outputs": [],
   "source": []
  }
 ],
 "metadata": {
  "kernelspec": {
   "display_name": "Python 3.9.16 ('ml-0451')",
   "language": "python",
   "name": "python3"
  },
  "language_info": {
   "codemirror_mode": {
    "name": "ipython",
    "version": 3
   },
   "file_extension": ".py",
   "mimetype": "text/x-python",
   "name": "python",
   "nbconvert_exporter": "python",
   "pygments_lexer": "ipython3",
   "version": "3.9.16"
  },
  "orig_nbformat": 4,
  "vscode": {
   "interpreter": {
    "hash": "36033837ca5e6abf9a43c4a709581da0f1bce294681611fcdfc747795309e2af"
   }
  }
 },
 "nbformat": 4,
 "nbformat_minor": 2
}
