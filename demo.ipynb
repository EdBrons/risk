{
 "cells": [
  {
   "cell_type": "code",
   "execution_count": 7,
   "metadata": {},
   "outputs": [
    {
     "name": "stdout",
     "output_type": "stream",
     "text": [
      "39\n",
      "[32 22 33 25]\n",
      "1\n",
      "[ 0  5 29]\n",
      "[ 8 35 19]\n"
     ]
    }
   ],
   "source": [
    "%reload_ext autoreload \n",
    "%autoreload 2\n",
    "\n",
    "from risk import new_game\n",
    "from environment import RiskEnvironment\n",
    "\n",
    "env = RiskEnvironment(2)\n",
    "env.get_observation()\n",
    "env.action_space\n",
    "action = env.action_space.sample()\n",
    "print(action[\"RECRUIT_PHASE\"])\n",
    "print(action[\"FIRST_ATTACK\"])\n",
    "print(action[\"REINFORCE_ATTACK\"])\n",
    "print(action[\"SUBSEQUENT_ATTACK\"])\n",
    "print(action[\"FORTIFY\"])\n",
    "\n",
    "\n",
    "\n"
   ]
  },
  {
   "cell_type": "code",
   "execution_count": null,
   "metadata": {},
   "outputs": [],
   "source": []
  }
 ],
 "metadata": {
  "language_info": {
   "name": "python"
  },
  "orig_nbformat": 4
 },
 "nbformat": 4,
 "nbformat_minor": 2
}
