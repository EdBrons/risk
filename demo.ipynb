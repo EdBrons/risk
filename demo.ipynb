{
 "cells": [
  {
   "cell_type": "code",
   "execution_count": 4,
   "metadata": {},
   "outputs": [
    {
     "ename": "AttributeError",
     "evalue": "'SetupPhase' object has no attribute 'won'",
     "output_type": "error",
     "traceback": [
      "\u001b[0;31m---------------------------------------------------------------------------\u001b[0m",
      "\u001b[0;31mAttributeError\u001b[0m                            Traceback (most recent call last)",
      "Cell \u001b[0;32mIn[4], line 18\u001b[0m\n\u001b[1;32m     16\u001b[0m Env \u001b[39m=\u001b[39m RiskEnv()\n\u001b[1;32m     17\u001b[0m Env\u001b[39m.\u001b[39mget_observation()\n\u001b[0;32m---> 18\u001b[0m Env\u001b[39m.\u001b[39;49mstep(\u001b[39m0\u001b[39;49m) \n\u001b[1;32m     19\u001b[0m Env\u001b[39m.\u001b[39mget_observation()\n",
      "File \u001b[0;32m~/Desktop/risk/riskenv.py:46\u001b[0m, in \u001b[0;36mRiskEnv.step\u001b[0;34m(self, action)\u001b[0m\n\u001b[1;32m     44\u001b[0m \u001b[39mif\u001b[39;00m res \u001b[39m==\u001b[39m Move\u001b[39m.\u001b[39mINVALID:\n\u001b[1;32m     45\u001b[0m     \u001b[39mself\u001b[39m\u001b[39m.\u001b[39mreward \u001b[39m-\u001b[39m\u001b[39m=\u001b[39m \u001b[39m0\u001b[39m\n\u001b[0;32m---> 46\u001b[0m reward \u001b[39m=\u001b[39m \u001b[39m1\u001b[39m \u001b[39mif\u001b[39;00m \u001b[39mself\u001b[39;49m\u001b[39m.\u001b[39;49mrisk\u001b[39m.\u001b[39;49mwon \u001b[39melse\u001b[39;00m \u001b[39m-\u001b[39m\u001b[39m1\u001b[39m \u001b[39mif\u001b[39;00m res\u001b[39m.\u001b[39mVALID \u001b[39melse\u001b[39;00m \u001b[39m-\u001b[39m\u001b[39m5\u001b[39m\n\u001b[1;32m     47\u001b[0m \u001b[39mself\u001b[39m\u001b[39m.\u001b[39mrisk \u001b[39m=\u001b[39m state\n\u001b[1;32m     48\u001b[0m \u001b[39m# self.reward += reward \u001b[39;00m\n",
      "\u001b[0;31mAttributeError\u001b[0m: 'SetupPhase' object has no attribute 'won'"
     ]
    }
   ],
   "source": [
    "%reload_ext autoreload \n",
    "%autoreload 2\n",
    "\n",
    "import numpy as np\n",
    "from enum import Enum, auto\n",
    "from maps import default_map\n",
    "from gymnasium.spaces import *\n",
    "from gymnasium import Env \n",
    "from riskenv import RiskEnv\n",
    "\n",
    "from riskstate import (AttackRes, Move, RiskState, SetupPhase, \n",
    "                       RecruitmentPhase, FirstFromAttackPhase, FirstToAttackPhase, ContinueAttackPhase, \n",
    "                       ReinforcePhase, SubsequentAttackPhase, FortifyPhase1, FortifyPhase2, \n",
    "                       FortifyPhase3, new_game)\n",
    "\n",
    "Env = RiskEnv()\n",
    "Env.get_observation()\n",
    "Env.step(0) \n",
    "Env.get_observation()"
   ]
  },
  {
   "cell_type": "code",
   "execution_count": null,
   "metadata": {},
   "outputs": [],
   "source": [
    "class Test(Env):\n",
    "    def __init__(self):\n",
    "        self.observation_space = Graph(node_space=Discrete(2), edge_space=Discrete(100))"
   ]
  },
  {
   "cell_type": "code",
   "execution_count": null,
   "metadata": {},
   "outputs": [],
   "source": [
    "t = Test() \n",
    "t.observation_space.sample(num_nodes = 41, num_edges= 100)"
   ]
  },
  {
   "cell_type": "code",
   "execution_count": null,
   "metadata": {},
   "outputs": [],
   "source": []
  }
 ],
 "metadata": {
  "kernelspec": {
   "display_name": "Python 3.9.16 ('ml-0451')",
   "language": "python",
   "name": "python3"
  },
  "language_info": {
   "codemirror_mode": {
    "name": "ipython",
    "version": 3
   },
   "file_extension": ".py",
   "mimetype": "text/x-python",
   "name": "python",
   "nbconvert_exporter": "python",
   "pygments_lexer": "ipython3",
   "version": "3.9.16"
  },
  "orig_nbformat": 4,
  "vscode": {
   "interpreter": {
    "hash": "36033837ca5e6abf9a43c4a709581da0f1bce294681611fcdfc747795309e2af"
   }
  }
 },
 "nbformat": 4,
 "nbformat_minor": 2
}
