{
 "cells": [
  {
   "cell_type": "code",
   "execution_count": 1,
   "metadata": {},
   "outputs": [
    {
     "name": "stdout",
     "output_type": "stream",
     "text": [
      "[0, 1, 2, 3, 4, 5, 6, 7, 8, 9, 10, 11, 12, 13, 14, 15, 16, 17, 18, 19, 20, 21, 22, 23, 24, 25, 26, 27, 28, 29, 30, 31, 32, 33, 34, 35, 36, 37, 38, 39, 40, 41]\n"
     ]
    },
    {
     "data": {
      "text/plain": [
       "array([[ 0, -1],\n",
       "       [ 0, -1],\n",
       "       [ 0, -1],\n",
       "       [ 0, -1],\n",
       "       [ 0, -1],\n",
       "       [ 0, -1],\n",
       "       [ 0, -1],\n",
       "       [ 0, -1],\n",
       "       [ 0, -1],\n",
       "       [ 0, -1],\n",
       "       [ 0, -1],\n",
       "       [ 0, -1],\n",
       "       [ 0, -1],\n",
       "       [ 0, -1],\n",
       "       [ 0, -1],\n",
       "       [ 0, -1],\n",
       "       [ 0, -1],\n",
       "       [ 0, -1],\n",
       "       [ 0, -1],\n",
       "       [ 0, -1],\n",
       "       [ 0, -1],\n",
       "       [ 0, -1],\n",
       "       [ 0, -1],\n",
       "       [ 0, -1],\n",
       "       [ 0, -1],\n",
       "       [ 0, -1],\n",
       "       [ 0, -1],\n",
       "       [ 0, -1],\n",
       "       [ 0, -1],\n",
       "       [ 0, -1],\n",
       "       [ 0, -1],\n",
       "       [ 0, -1],\n",
       "       [ 0, -1],\n",
       "       [ 0, -1],\n",
       "       [ 0, -1],\n",
       "       [ 0, -1],\n",
       "       [ 0, -1],\n",
       "       [ 0, -1],\n",
       "       [ 0, -1],\n",
       "       [ 0, -1],\n",
       "       [ 0, -1],\n",
       "       [ 0, -1]])"
      ]
     },
     "execution_count": 1,
     "metadata": {},
     "output_type": "execute_result"
    }
   ],
   "source": [
    "import numpy as np\n",
    "from enum import Enum, auto\n",
    "from maps import default_map\n",
    "\n",
    "from riskstate import (AttackRes, Move, RiskState, SetupPhase, \n",
    "                       RecruitmentPhase, FirstAttackPhase, ContinueAttackPhase, \n",
    "                       ReinforcePhase, SubsequentAttackPhase, FortifyPhase1, FortifyPhase2, \n",
    "                       FortifyPhase3, new_game)\n",
    "\n",
    "risk = new_game(2)\n",
    "risk.active_players\n",
    "\n",
    "setUpPhase = SetupPhase(0, 0, risk.active_players, 20, risk.territories)\n",
    "print(setUpPhase.action_space())\n",
    "setUpPhase.step(0)\n",
    "setUpPhase.territories\n"
   ]
  },
  {
   "cell_type": "code",
   "execution_count": null,
   "metadata": {},
   "outputs": [],
   "source": []
  },
  {
   "cell_type": "code",
   "execution_count": null,
   "metadata": {},
   "outputs": [],
   "source": []
  },
  {
   "cell_type": "code",
   "execution_count": 4,
   "metadata": {},
   "outputs": [
    {
     "name": "stdout",
     "output_type": "stream",
     "text": [
      "Fido\n",
      "\n",
      "woof\n"
     ]
    },
    {
     "data": {
      "text/plain": [
       "''"
      ]
     },
     "execution_count": 4,
     "metadata": {},
     "output_type": "execute_result"
    }
   ],
   "source": [
    "class Animal:\n",
    "    def __init__(self, name):\n",
    "        self.name = name\n",
    "        self.sound = \"\"\n",
    "\n",
    "    def make_sound(self, sound):\n",
    "        self.sound = sound\n",
    "\n",
    "class Dog(Animal):\n",
    "    def bark(self):\n",
    "        self.make_sound(\"woof\")\n",
    "\n",
    "animal = Animal(\"test\")\n",
    "\n",
    "my_dog = Dog(\"Fido\")\n",
    "print(my_dog.name)  # Output: Fido\n",
    "print(my_dog.sound)  # Output: \"\"\n",
    "\n",
    "my_dog.bark()\n",
    "print(my_dog.sound)  # Output: woof\n",
    "\n",
    "\n",
    "\n"
   ]
  },
  {
   "cell_type": "code",
   "execution_count": null,
   "metadata": {},
   "outputs": [],
   "source": []
  }
 ],
 "metadata": {
  "kernelspec": {
   "display_name": "ml-0451",
   "language": "python",
   "name": "python3"
  },
  "language_info": {
   "codemirror_mode": {
    "name": "ipython",
    "version": 3
   },
   "file_extension": ".py",
   "mimetype": "text/x-python",
   "name": "python",
   "nbconvert_exporter": "python",
   "pygments_lexer": "ipython3",
   "version": "3.9.16"
  },
  "orig_nbformat": 4
 },
 "nbformat": 4,
 "nbformat_minor": 2
}
